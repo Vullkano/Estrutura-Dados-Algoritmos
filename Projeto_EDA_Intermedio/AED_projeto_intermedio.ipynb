{
 "cells": [
  {
   "cell_type": "markdown",
   "id": "0fe0513e",
   "metadata": {
    "tags": []
   },
   "source": [
    "<center>\n",
    "    <div style=\"color: Black; background-color: #4682B4;padding: 1px; border-radius: 1px;font-family: Garamond;\">\n",
    "    <font size = \"6\">\n",
    "        <h3><b>Exploração do TAD Lista com implementação de listas ligadas</b></h3>\n",
    "    </font>\n",
    "    </div>    \n",
    "<center>"
   ]
  },
  {
   "cell_type": "markdown",
   "id": "210fa2b0",
   "metadata": {},
   "source": [
    " - **Trabalho realizado por**:\n",
    "Nomes   | Número\n",
    ":--------- | :------:\n",
    "Diogo Alexandre Alonso De Freitas | 104841\n",
    "Pedro Brígido Machado | 98601\n",
    "Inês Maria Carvalho Silva | 104912"
   ]
  },
  {
   "cell_type": "markdown",
   "id": "81a3f3e6",
   "metadata": {},
   "source": [
    "Este trabalho teve como objetivo explorar as representações do TAD Lista em Python e os algoritmos de pesquisa e de\n",
    "ordenamento.\n",
    "Na realização deste trabalho, o nosso grupo optou por escolher a opção c) (opção com valoração superior) em que era necessário construir 2 TAD Listas, sendo uma a duplamente ligada e a outra a duplamente ligada e circular.\n",
    "É necessário referir que, apesar de o grupo ter conhecimento de que apenas era necessário escolher dois dos algoritmos de ordenação, o grupo optou por realizar todos os algoritmos, com o objetivo de obter um maior conhecimento sobre o assunto."
   ]
  },
  {
   "cell_type": "code",
   "execution_count": 1,
   "id": "2840af14",
   "metadata": {},
   "outputs": [],
   "source": [
    "# Obter vários outputs\n",
    "from IPython.core.interactiveshell import InteractiveShell\n",
    "InteractiveShell.ast_node_interactivity = \"all\"\n",
    "import timeit\n",
    "import random\n",
    "import matplotlib.pyplot as plt\n",
    "import timeit\n",
    "from IPython.display import Image"
   ]
  },
  {
   "cell_type": "markdown",
   "id": "e1c32484",
   "metadata": {},
   "source": [
    "<center>\n",
    "    <div style=\"color: Black; background-color: #4682B4;padding: 1px; border-radius: 1px;font-family: Garamond;\">\n",
    "    <font size = \"4\">\n",
    "        <h3><b>1 - TAD Lista: implementações</b></h3>\n",
    "    </font>\n",
    "    </div>    \n",
    "<center>"
   ]
  },
  {
   "cell_type": "markdown",
   "id": "fb1c7b63-48d5-4c76-8487-4e811e13631a",
   "metadata": {},
   "source": [
    "<div style=\"color: Black;padding: 1px; float:left;border-radius: 1px;font-family: Garamond;\">\n",
    "    <font size = \"3\">\n",
    "        <h3><b>- Nó</b></h3>\n",
    "    </font>\n",
    "</div>"
   ]
  },
  {
   "cell_type": "code",
   "execution_count": 2,
   "id": "58978d41",
   "metadata": {},
   "outputs": [],
   "source": [
    "class NewNode:\n",
    "    # O construtor possui 2 variáveis, onde um apontará para o valor seguinte (next) e o valor anterior (prev)\n",
    "    def __init__(self, data, prev, next):\n",
    "        self.__data = data\n",
    "        self.__prev = prev\n",
    "        self.__next = next\n",
    "\n",
    "    @property\n",
    "    def data(self):\n",
    "        return self.__data\n",
    "\n",
    "    @property\n",
    "    def prev(self):\n",
    "        return self.__prev\n",
    "\n",
    "    @property\n",
    "    def next(self):\n",
    "        return self.__next\n",
    "\n",
    "    @data.setter\n",
    "    def data(self, new_data):\n",
    "        self.__data = new_data\n",
    "\n",
    "    @prev.setter\n",
    "    def prev(self, new_prev):\n",
    "        self.__prev = new_prev\n",
    "\n",
    "    @next.setter\n",
    "    def next(self, new_next):\n",
    "        self.__next = new_next\n"
   ]
  },
  {
   "cell_type": "markdown",
   "id": "f6635fc2-ea47-4e32-868d-eed923dd3107",
   "metadata": {},
   "source": [
    "<div style=\"color: Black;padding: 1px; float:left;border-radius: 1px;font-family: Garamond;\">\n",
    "    <font size = \"3\">\n",
    "        <h3><b>- Lista duplamente ligada</b></h3>\n",
    "    </font>\n",
    "</div>"
   ]
  },
  {
   "cell_type": "markdown",
   "id": "9aed4c71",
   "metadata": {},
   "source": [
    "![](https://wiki.sj.ifsc.edu.br/images/2/2b/Lista-dupla.png)"
   ]
  },
  {
   "cell_type": "markdown",
   "id": "cb9244dd",
   "metadata": {},
   "source": [
    "Uma lista duplamente ligada é uma coleção de nós, cada um contendo dois ponteiros que apontam para o nó anterior (prev) e outro que aponta para o próximo nó (next) , formado assim a lista.\n",
    "O primeiro nó na lista denomina-se cabeça (head) e o último cauda (tail)."
   ]
  },
  {
   "cell_type": "code",
   "execution_count": 56,
   "id": "d13bd05b",
   "metadata": {},
   "outputs": [],
   "source": [
    "class ListaDL:\n",
    "\n",
    "    def __init__(self):\n",
    "        self.__head = NewNode(None, None, None) # ponteiro para o primeiro elemento da lista (head) \n",
    "        self.__tail = NewNode(None, None, None) # ponteiro para o último elemento da lista (tail)\n",
    "        self.__head.next = self.__tail\n",
    "        self.__tail.prev = self.__head\n",
    "        self.__size = 0 # Tamanho da lista (Número de elementos)\n",
    "        \n",
    "    @property\n",
    "    def head(self):\n",
    "        return self.__head.data\n",
    "\n",
    "    @property\n",
    "    def tail(self):\n",
    "        return self.__tail.data\n",
    "\n",
    "    @property\n",
    "    def is_empty(self):\n",
    "        return self.__size == 0\n",
    "    \n",
    "    def __len__(self):\n",
    "        return self.__size\n",
    "    \n",
    "    def remove_all(self):\n",
    "        self.__head = NewNode(None, None, None)\n",
    "        self.__tail = NewNode(None, None, None)\n",
    "        self.__head.next =self.__tail\n",
    "        self.__tail.prev = self.__head\n",
    "        self.__size = 0\n",
    "        \n",
    "    def insert_first(self, value):\n",
    "        node = NewNode(value, None, None)\n",
    "        if self.__size == 0:\n",
    "            self.__head = node\n",
    "            self.__size += 1\n",
    "        elif self.__size == 1:\n",
    "            if self.__head.data != None:\n",
    "                self.__tail = self.__head\n",
    "            self.__head = self.__tail.prev = node\n",
    "            self.__head.next = self.__tail\n",
    "            self.__size += 1\n",
    "        else:\n",
    "            head = self.__head\n",
    "            self.__head = node\n",
    "            node.next = head\n",
    "            head.prev = node\n",
    "            self.__size += 1\n",
    "            \n",
    "    def __getitem__(self, index):\n",
    "        if type(index) == int:\n",
    "            if - self.__size > index or index >= self.__size:\n",
    "                raise IndexError('list index out of range')\n",
    "            if index < 0:\n",
    "                perc = self.__tail\n",
    "                count = -1\n",
    "                while count > index:\n",
    "                    perc = perc.prev\n",
    "                    count -= 1\n",
    "            else:\n",
    "                perc = self.__head\n",
    "                count = 0\n",
    "                while count < index:\n",
    "                    perc = perc.next\n",
    "                    count += 1\n",
    "            return perc\n",
    "        else:\n",
    "            if index.step == None:\n",
    "                step = 1\n",
    "            else:\n",
    "                step = index.step\n",
    "            if index.start == None:\n",
    "                start = 0\n",
    "            else:\n",
    "                start = index.start\n",
    "            if index.stop == None:\n",
    "                stop = self.__size\n",
    "            else:\n",
    "                stop = index.stop\n",
    "            if 0 > start or start >= self.__size or 0 > stop or stop > self.__size:\n",
    "                raise IndexError('list index out of range')\n",
    "            lista = ListaDL()\n",
    "            perc = self.__head\n",
    "            count = 0\n",
    "            while count < start:\n",
    "                perc = perc.next\n",
    "                count += 1\n",
    "            count_step = 0\n",
    "            while count < stop:\n",
    "                if count_step % step == 0:\n",
    "                    lista.insert_last(perc.data)\n",
    "                perc = perc.next\n",
    "                count += 1\n",
    "                count_step += 1\n",
    "            return lista\n",
    "\n",
    "    def __add__(self, other):\n",
    "        list = ListaDL()\n",
    "        for i in range(self.__size):\n",
    "            list.insert_last(self[i].data)\n",
    "        for i in range(other.__size):\n",
    "            list.insert_last(other[i].data)\n",
    "        return list\n",
    "\n",
    "    def __str__(self):\n",
    "        txt = '['\n",
    "        perc = self.__head\n",
    "        count = 0\n",
    "        while count <= self.__size - 1:\n",
    "            txt += str(perc.data)\n",
    "            txt += ', '\n",
    "            perc = perc.next\n",
    "            count += 1\n",
    "        if txt[-1] == ' ':\n",
    "            txt = txt[:-2]\n",
    "        txt += ']'\n",
    "        return txt\n",
    "    \n",
    "    def insert_last(self, value):\n",
    "        node = NewNode(value, None, None)\n",
    "        if self.__size == 0:\n",
    "            self.insert_first(value)\n",
    "        elif self.__size == 1:\n",
    "            if self.__tail.data != None:\n",
    "                self.__head = self.__tail\n",
    "            self.__tail = self.__head.next = node\n",
    "            self.__tail.prev = self.__head\n",
    "            self.__size += 1\n",
    "        else:\n",
    "            tail = self.__tail\n",
    "            self.__tail = node\n",
    "            node.prev = tail\n",
    "            tail.next = node\n",
    "            self.__size += 1\n",
    "            \n",
    "    def remove_value(self, value):\n",
    "        if self.__size == 0:\n",
    "            raise ValueError('value not found')\n",
    "        perc = self.__head\n",
    "        count = 0\n",
    "        while count <= self.__size - 1 and perc.data != value:\n",
    "            perc = perc.next\n",
    "            count += 1\n",
    "        if count == self.__size:\n",
    "            raise ValueError('value not found')\n",
    "        self.remove_index(count)\n",
    "        \n",
    "    def remove_index(self, index):\n",
    "        if self.__size == 0:\n",
    "            raise IndexError('list index out of range')\n",
    "        elif index == 0:\n",
    "            self.delete_first()\n",
    "            return\n",
    "        elif index == self.__size - 1:\n",
    "            self.delete_last()\n",
    "            return\n",
    "        else:\n",
    "            x = self.__head\n",
    "            count = 0\n",
    "            while count < index - 1:\n",
    "                x = x.next\n",
    "                count += 1\n",
    "            aux = x.next\n",
    "            x.next = aux.next\n",
    "            aux.next.prev = x\n",
    "        self.__size -= 1\n",
    "        \n",
    "    def delete_first(self):\n",
    "        if self.__size == 0:\n",
    "            raise IndexError('list index out of range')\n",
    "        head = self.__head\n",
    "        self.__head = head.next\n",
    "        self.__head.prev = None\n",
    "        self.__size -= 1\n",
    "    \n",
    "    def delete_last(self):\n",
    "        if self.__size == 0:\n",
    "            raise IndexError('list index out of range')\n",
    "        tail = self.__tail\n",
    "        self.__tail = tail.prev\n",
    "        self.__tail.next = None\n",
    "        self.__size -= 1\n",
    "        \n",
    "    def find_value(self, value):\n",
    "        perc = self.__head\n",
    "        count = 0\n",
    "        while count < self.__size:\n",
    "            if perc.data == value:\n",
    "                return count\n",
    "            perc = perc.next\n",
    "            count += 1\n",
    "        raise ValueError('value not found')\n",
    "        \n",
    "    def binary_search(self, value):\n",
    "        #self.merge_sort()\n",
    "        low = 0\n",
    "        high = self.__size - 1\n",
    "        while low <= high:\n",
    "            mid = (high + low) // 2\n",
    "            if self[mid].data < value:\n",
    "                low = mid + 1\n",
    "            elif self[mid].data > value:\n",
    "                high = mid - 1\n",
    "            else:\n",
    "                return mid\n",
    "        raise ValueError('value not found')\n",
    "        \n",
    "    def exists(self, value):\n",
    "        perc = self.__head\n",
    "        count = 0\n",
    "        while count < self.__size:\n",
    "            if perc.data == value:\n",
    "                return True\n",
    "            perc = perc.next\n",
    "            count += 1\n",
    "        return False\n",
    "    \n",
    "    def count_value(self, value):\n",
    "        count = 0\n",
    "        index = 0\n",
    "        perc = self.__head\n",
    "        while index < self.__size:\n",
    "            if perc.data == value:\n",
    "                count += 1\n",
    "            perc = perc.next\n",
    "            index += 1\n",
    "        return count\n",
    "    \n",
    "    def merge_sort(self):\n",
    "        if self.__size > 1:\n",
    "            left_lista = self[:self.__size // 2]\n",
    "            right_lista = self[self.__size // 2:]\n",
    "            left_lista.merge_sort()\n",
    "            right_lista.merge_sort()\n",
    "            l_index = 0\n",
    "            r_index = 0\n",
    "            m_index = 0\n",
    "            while l_index < left_lista.__size and r_index < right_lista.__size:\n",
    "                if left_lista[l_index].data < right_lista[r_index].data:\n",
    "                    self[m_index].data = left_lista[l_index].data\n",
    "                    l_index += 1\n",
    "                else:\n",
    "                    self[m_index].data = right_lista[r_index].data\n",
    "                    r_index += 1\n",
    "                m_index += 1\n",
    "            while l_index < left_lista.__size:\n",
    "                self[m_index].data = left_lista[l_index].data\n",
    "                l_index += 1\n",
    "                m_index += 1\n",
    "            while r_index < right_lista.__size:\n",
    "                self[m_index].data = right_lista[r_index].data\n",
    "                r_index += 1\n",
    "                m_index += 1\n",
    "                \n",
    "    def quick_sort(self):\n",
    "        if self.__size <= 1:\n",
    "            return\n",
    "        else:\n",
    "            comp = self[self.__size - 1]\n",
    "            list = self[:self.__size - 1]\n",
    "        lower_list = ListaDL()\n",
    "        greater_list = ListaDL()\n",
    "        for i in range(list.__size):\n",
    "            if list[i].data <= comp.data:\n",
    "                lower_list.insert_last(list[i].data)\n",
    "            else:\n",
    "                greater_list.insert_last(list[i].data)\n",
    "        self.remove_all()\n",
    "        lower_list.quick_sort()\n",
    "        comp_list = ListaDL()\n",
    "        comp_list.insert_first(comp.data)\n",
    "        greater_list.quick_sort()\n",
    "        lista = lower_list + comp_list + greater_list\n",
    "        self.__size = lista.__size\n",
    "        self.__head = lista.__head\n",
    "        self.__tail = lista.__tail\n",
    "\n",
    "    def insertion_sort(self):\n",
    "        for i in range(1, self.__size):\n",
    "            r = i\n",
    "            while r > 0 and self[r].data < self[r - 1].data:\n",
    "                self[r].data, self[r - 1].data = self[r - 1].data, self[r].data\n",
    "                r -= 1\n",
    "\n",
    "    def bubble_sort(self):\n",
    "        for i in range(self.__size - 1, 0, -1):\n",
    "            for r in range(i):\n",
    "                if self[r].data > self[r + 1].data:\n",
    "                    self[r].data, self[r + 1].data = self[r + 1].data, self[r].data"
   ]
  },
  {
   "cell_type": "code",
   "execution_count": 57,
   "id": "66384f02",
   "metadata": {},
   "outputs": [
    {
     "name": "stdout",
     "output_type": "stream",
     "text": [
      "True\n",
      "[]\n"
     ]
    }
   ],
   "source": [
    "DL = ListaDL()\n",
    "print(DL.is_empty)\n",
    "print(DL)"
   ]
  },
  {
   "cell_type": "code",
   "execution_count": 58,
   "id": "19087ad2",
   "metadata": {},
   "outputs": [
    {
     "name": "stdout",
     "output_type": "stream",
     "text": [
      "[190, 76, 32, 98, 1, 10, 9, 45]\n",
      "False\n"
     ]
    }
   ],
   "source": [
    "DL.insert_first(98)\n",
    "DL.insert_first(32)\n",
    "DL.insert_first(76)\n",
    "DL.insert_first(190)\n",
    "DL.insert_last(1)\n",
    "DL.insert_last(10)\n",
    "DL.insert_last(9)\n",
    "DL.insert_last(45)\n",
    "print(DL)\n",
    "print(DL.is_empty)"
   ]
  },
  {
   "cell_type": "code",
   "execution_count": 13,
   "id": "4fabdd99",
   "metadata": {},
   "outputs": [
    {
     "name": "stdout",
     "output_type": "stream",
     "text": [
      "[76, 32, 98, 1, 9]\n"
     ]
    }
   ],
   "source": [
    "DL.remove_index(5)\n",
    "DL.delete_first()\n",
    "DL.delete_last()\n",
    "print(DL)"
   ]
  },
  {
   "cell_type": "code",
   "execution_count": 14,
   "id": "b7f20670",
   "metadata": {},
   "outputs": [
    {
     "data": {
      "text/plain": [
       "76"
      ]
     },
     "execution_count": 14,
     "metadata": {},
     "output_type": "execute_result"
    },
    {
     "data": {
      "text/plain": [
       "9"
      ]
     },
     "execution_count": 14,
     "metadata": {},
     "output_type": "execute_result"
    }
   ],
   "source": [
    "DL.head\n",
    "DL.tail"
   ]
  },
  {
   "cell_type": "code",
   "execution_count": 15,
   "id": "834e198d",
   "metadata": {},
   "outputs": [
    {
     "data": {
      "text/plain": [
       "True"
      ]
     },
     "execution_count": 15,
     "metadata": {},
     "output_type": "execute_result"
    },
    {
     "data": {
      "text/plain": [
       "1"
      ]
     },
     "execution_count": 15,
     "metadata": {},
     "output_type": "execute_result"
    },
    {
     "name": "stdout",
     "output_type": "stream",
     "text": [
      "[76, 32, 98, 1, 9]\n"
     ]
    }
   ],
   "source": [
    "DL.exists(32)\n",
    "DL.count_value(32)\n",
    "print(DL)"
   ]
  },
  {
   "cell_type": "code",
   "execution_count": 16,
   "id": "5f62eef3",
   "metadata": {},
   "outputs": [
    {
     "name": "stdout",
     "output_type": "stream",
     "text": [
      "[1, 9, 32, 76, 98]\n"
     ]
    }
   ],
   "source": [
    "DL.merge_sort()\n",
    "print(DL)"
   ]
  },
  {
   "cell_type": "markdown",
   "id": "b395ec5a-3929-44af-9525-fa3472e608a1",
   "metadata": {},
   "source": [
    "<div style=\"color: Black;padding: 1px; float:left;border-radius: 1px;font-family: Garamond;\">\n",
    "    <font size = \"3\">\n",
    "        <h3><b>- Lista duplamente ligada e circular</b></h3>\n",
    "    </font>\n",
    "</div>"
   ]
  },
  {
   "cell_type": "markdown",
   "id": "ea5dd570",
   "metadata": {},
   "source": [
    "![](data:image/png;base64,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)"
   ]
  },
  {
   "cell_type": "markdown",
   "id": "793d3c88",
   "metadata": {},
   "source": [
    "A lista duplamente ligada e circular possui a mesma estrutura de uma lista duplamente ligada, mas a head aponta para a tail e a tail aponta para a Head"
   ]
  },
  {
   "cell_type": "code",
   "execution_count": 32,
   "id": "1b9e5eb0",
   "metadata": {},
   "outputs": [],
   "source": [
    "class ListaDLC:\n",
    "\n",
    "    def __init__(self):\n",
    "        self.__head = NewNode(None, None, None)\n",
    "        self.__tail = NewNode(None, None, None)\n",
    "        self.__head.next = self.__head.prev = self.__tail\n",
    "        self.__tail.prev = self.__tail.next = self.__head\n",
    "        self.__size = 0\n",
    "\n",
    "    @property\n",
    "    def head(self):\n",
    "        return self.__head.data\n",
    "\n",
    "    @property\n",
    "    def tail(self):\n",
    "        return self.__tail.data\n",
    "\n",
    "    @property\n",
    "    def is_empty(self):\n",
    "        return self.__size == 0\n",
    "    \n",
    "    def __len__(self):\n",
    "        return self.__size\n",
    "    \n",
    "    def remove_all(self):\n",
    "        self.__head = NewNode(None, None, None)\n",
    "        self.__tail = NewNode(None, None, None)\n",
    "        self.__head.next = self.__head.prev = self.__tail\n",
    "        self.__tail.prev = self.__tail.next = self.__head\n",
    "        self.__size = 0\n",
    "\n",
    "    def insert_first(self, value):\n",
    "        node = NewNode(value, None, None)\n",
    "        if self.__size == 0:\n",
    "            self.__head = node\n",
    "            self.__size += 1\n",
    "        elif self.__size == 1:\n",
    "            if self.__head.data != None:\n",
    "                self.__tail = self.__head\n",
    "            self.__head = self.__tail.next = self.__tail.prev = node\n",
    "            self.__head.prev = self.__head.next = self.__tail\n",
    "            self.__size += 1\n",
    "        else:\n",
    "            head = self.__head\n",
    "            self.__head = node\n",
    "            node.next = head\n",
    "            head.prev.next = node\n",
    "            head.prev, node.prev = node, head.prev\n",
    "            self.__size += 1\n",
    "            \n",
    "    def __getitem__(self, index):\n",
    "        if type(index) == int:\n",
    "            if - self.__size > index or index >= self.__size:\n",
    "                raise IndexError('list index out of range')\n",
    "                count = -1\n",
    "                while count > index:\n",
    "                    perc = perc.prev\n",
    "                    count -= 1\n",
    "            else:\n",
    "                perc = self.__head\n",
    "                count = 0\n",
    "                while count < index:\n",
    "                    perc = perc.next\n",
    "                    count += 1\n",
    "            return perc\n",
    "        else:\n",
    "            if index.step == None:\n",
    "                step = 1\n",
    "            else:\n",
    "                step = index.step\n",
    "            if index.start == None:\n",
    "                start = 0\n",
    "            else:\n",
    "                start = index.start\n",
    "            if index.stop == None:\n",
    "                stop = self.__size\n",
    "            else:\n",
    "                stop = index.stop\n",
    "            if 0 > start or start >= self.__size or 0 > stop or stop > self.__size or 0 > step or step >= self.__size:\n",
    "                raise IndexError('list index out of range')\n",
    "            lista = ListaDLC()\n",
    "            perc = self.__head\n",
    "            count = 0\n",
    "            while count < start:\n",
    "                perc = perc.next\n",
    "                count += 1\n",
    "            while count < stop:\n",
    "                if count % step == 0:\n",
    "                    lista.insert_last(perc.data)\n",
    "                perc = perc.next\n",
    "                count += 1\n",
    "            return lista\n",
    "    \n",
    "    def __add__(self, other):\n",
    "        list = ListaDLC()\n",
    "        for i in range(self.__size):\n",
    "            list.insert_last(self[i].data)\n",
    "        for i in range(other.__size):\n",
    "            list.insert_last(other[i].data)\n",
    "        return list\n",
    "\n",
    "    def __str__(self):\n",
    "        txt = '['\n",
    "        perc = self.__head\n",
    "        count = 0\n",
    "        while count <= self.__size - 1:\n",
    "            if perc.data == None:\n",
    "                perc = self.__tail\n",
    "            txt += str(perc.data)\n",
    "            txt += ', '\n",
    "            perc = perc.next\n",
    "            count += 1\n",
    "        if txt[-1] == ' ':\n",
    "            txt = txt[:-2]\n",
    "        txt += ']'\n",
    "        return txt\n",
    "\n",
    "    def insert_last(self, value):\n",
    "        node = NewNode(value, None, None)\n",
    "        if self.__size == 0:\n",
    "            self.__head = node\n",
    "            self.__size += 1\n",
    "        elif self.__size == 1:\n",
    "            if self.__tail.data != None:\n",
    "                self.__head = self.__tail\n",
    "            self.__tail = self.__head.next = self.__head.prev = node\n",
    "            self.__tail.prev = self.__tail.next = self.__head\n",
    "            self.__size += 1\n",
    "        else:\n",
    "            tail = self.__tail\n",
    "            self.__tail = node\n",
    "            node.prev = tail\n",
    "            tail.next.prev = node\n",
    "            tail.next, node.next = node, tail.next\n",
    "            self.__size += 1\n",
    "            \n",
    "    def remove_value(self, value):\n",
    "        if self.__size == 0:\n",
    "            raise ValueError('value not found')\n",
    "        perc = self.__head\n",
    "        count = 0\n",
    "        while count <= self.__size - 1 or perc.data != value:\n",
    "            perc = perc.next\n",
    "            count += 1\n",
    "        if count == self.__size:\n",
    "            raise ValueError('value not found')\n",
    "        self.remove_index(count)\n",
    "\n",
    "    def remove_index(self, index):\n",
    "        if self.__size == 0:\n",
    "            raise IndexError('list index out of range')\n",
    "        elif index == 0:\n",
    "            self.delete_first()\n",
    "            return\n",
    "        elif index == self.__size - 1:\n",
    "            self.delete_last()\n",
    "            return\n",
    "        else:\n",
    "            perc = self.__head\n",
    "            count = 0\n",
    "            while count < index - 1:\n",
    "                perc = perc.next\n",
    "                count += 1\n",
    "            perc.prev.next = perc.next\n",
    "            perc.next.prev = perc.prev\n",
    "        self.__size -= 1\n",
    "\n",
    "    def delete_first(self):\n",
    "        if self.__size == 0:\n",
    "            raise IndexError('list index out of range')\n",
    "        if self.__size == 1:\n",
    "            self.__head = NewNode(None, None, None)\n",
    "            self.__size -= 1\n",
    "            return\n",
    "        head = self.__head\n",
    "        head.next.prev = head.prev\n",
    "        head.prev.next = head.next\n",
    "        self.__head = head.next\n",
    "        self.__size -= 1\n",
    "\n",
    "    def delete_last(self):\n",
    "        if self.__size == 0:\n",
    "            raise IndexError('list index out of range')\n",
    "        if self.__size == 1:\n",
    "            self.delete_first()\n",
    "            return\n",
    "        tail = self.__tail\n",
    "        tail.next.prev = tail.prev\n",
    "        tail.prev.next = tail.next\n",
    "        self.__tail = tail.prev\n",
    "        self.__size -= 1\n",
    "\n",
    "    def find_value(self, value):\n",
    "        perc = self.__head\n",
    "        count = 0\n",
    "        while count < self.__size:\n",
    "            if perc.data == value:\n",
    "                return count\n",
    "            perc = perc.next\n",
    "            count += 1\n",
    "        raise ValueError('value not found')\n",
    "        \n",
    "    def binary_search(self, value):\n",
    "        #self.merge_sort()\n",
    "        low = 0\n",
    "        high = self.__size - 1\n",
    "        while low <= high:\n",
    "            mid = (high + low) // 2\n",
    "            if self[mid].data < value:\n",
    "                low = mid + 1\n",
    "            elif self[mid].data > value:\n",
    "                high = mid - 1\n",
    "            else:\n",
    "                return mid\n",
    "        raise ValueError('value not found')\n",
    "\n",
    "    def exists(self, value):\n",
    "        perc = self.__head\n",
    "        count = 0\n",
    "        while count < self.__size:\n",
    "            if perc.data == value:\n",
    "                return True\n",
    "            perc = perc.next\n",
    "            count += 1\n",
    "        return False\n",
    "\n",
    "    def count_value(self, value):\n",
    "        count = 0\n",
    "        index = 0\n",
    "        perc = self.__head\n",
    "        while index < self.__size:\n",
    "            if perc.data == value:\n",
    "                count += 1\n",
    "            perc = perc.next\n",
    "            index += 1\n",
    "        return count\n",
    "\n",
    "    def merge_sort(self):\n",
    "        if self.__size > 1:\n",
    "            left_lista = self[:self.__size // 2]\n",
    "            right_lista = self[self.__size // 2:]\n",
    "            left_lista.merge_sort()\n",
    "            right_lista.merge_sort()\n",
    "            l_index = 0\n",
    "            r_index = 0\n",
    "            m_index = 0\n",
    "            while l_index < left_lista.__size and r_index < right_lista.__size:\n",
    "                if left_lista[l_index].data < right_lista[r_index].data:\n",
    "                    self[m_index].data = left_lista[l_index].data\n",
    "                    l_index += 1\n",
    "                else:\n",
    "                    self[m_index].data = right_lista[r_index].data\n",
    "                    r_index += 1\n",
    "                m_index += 1\n",
    "            while l_index < left_lista.__size:\n",
    "                self[m_index].data = left_lista[l_index].data\n",
    "                l_index += 1\n",
    "                m_index += 1\n",
    "            while r_index < right_lista.__size:\n",
    "                self[m_index].data = right_lista[r_index].data\n",
    "                r_index += 1\n",
    "                m_index += 1\n",
    "\n",
    "    def bubble_sort(self):\n",
    "        for i in range(self.__size - 1, 0, -1):\n",
    "            for r in range(i):\n",
    "                if self[r].data > self[r + 1].data:\n",
    "                    self[r].data, self[r + 1].data = self[r + 1].data, self[r].data\n",
    "                    \n",
    "    def quick_sort(self):\n",
    "        if self.__size <= 1:\n",
    "            return\n",
    "        else:\n",
    "            comp = self.__tail\n",
    "            list = self[:self.__size - 1]\n",
    "        lower_list = ListaDLC()\n",
    "        greater_list = ListaDLC()\n",
    "        for i in range(list.__size):\n",
    "            if list[i].data <= comp.data:\n",
    "                lower_list.insert_last(list[i].data)\n",
    "            else:\n",
    "                greater_list.insert_last(list[i].data)\n",
    "        self.remove_all()\n",
    "        lower_list.quick_sort()\n",
    "        comp_list = ListaDLC()\n",
    "        comp_list.insert_first(comp.data)\n",
    "        greater_list.quick_sort()\n",
    "        lista = lower_list + comp_list + greater_list\n",
    "        self.__size = lista.__size\n",
    "        self.__head = lista.__head\n",
    "        self.__tail = lista.__tail\n",
    "\n",
    "    def insertion_sort(self):\n",
    "        for i in range(1, self.__size):\n",
    "            r = i\n",
    "            while r > 0 and self[r].data < self[r - 1].data:\n",
    "                self[r].data, self[r - 1].data = self[r - 1].data, self[r].data\n",
    "                r -= 1"
   ]
  },
  {
   "cell_type": "code",
   "execution_count": 33,
   "id": "83e030b1",
   "metadata": {},
   "outputs": [
    {
     "name": "stdout",
     "output_type": "stream",
     "text": [
      "True\n",
      "[]\n"
     ]
    }
   ],
   "source": [
    "DLC = ListaDLC()\n",
    "print(DLC.is_empty)\n",
    "print(DLC)"
   ]
  },
  {
   "cell_type": "code",
   "execution_count": 34,
   "id": "3b88d749",
   "metadata": {},
   "outputs": [
    {
     "name": "stdout",
     "output_type": "stream",
     "text": [
      "[190, 76, 32, 98, 1, 10, 9, 45]\n",
      "False\n"
     ]
    }
   ],
   "source": [
    "DLC.insert_first(98)\n",
    "DLC.insert_first(32)\n",
    "DLC.insert_first(76)\n",
    "DLC.insert_first(190)\n",
    "DLC.insert_last(1)\n",
    "DLC.insert_last(10)\n",
    "DLC.insert_last(9)\n",
    "DLC.insert_last(45)\n",
    "print(DLC)\n",
    "print(DLC.is_empty)"
   ]
  },
  {
   "cell_type": "code",
   "execution_count": 35,
   "id": "242504f9",
   "metadata": {},
   "outputs": [
    {
     "data": {
      "text/plain": [
       "190"
      ]
     },
     "execution_count": 35,
     "metadata": {},
     "output_type": "execute_result"
    },
    {
     "data": {
      "text/plain": [
       "45"
      ]
     },
     "execution_count": 35,
     "metadata": {},
     "output_type": "execute_result"
    }
   ],
   "source": [
    "DLC.head\n",
    "DLC.tail"
   ]
  },
  {
   "cell_type": "code",
   "execution_count": 36,
   "id": "1fe64c8b",
   "metadata": {},
   "outputs": [
    {
     "name": "stdout",
     "output_type": "stream",
     "text": [
      "[76, 32, 98, 10, 9]\n"
     ]
    }
   ],
   "source": [
    "DLC.remove_index(5)\n",
    "DLC.delete_first()\n",
    "DLC.delete_last()\n",
    "print(DLC)"
   ]
  },
  {
   "cell_type": "code",
   "execution_count": 37,
   "id": "5bd2e3ef",
   "metadata": {},
   "outputs": [
    {
     "data": {
      "text/plain": [
       "True"
      ]
     },
     "execution_count": 37,
     "metadata": {},
     "output_type": "execute_result"
    },
    {
     "data": {
      "text/plain": [
       "1"
      ]
     },
     "execution_count": 37,
     "metadata": {},
     "output_type": "execute_result"
    }
   ],
   "source": [
    "DLC.exists(32)\n",
    "DLC.count_value(32)"
   ]
  },
  {
   "cell_type": "code",
   "execution_count": 38,
   "id": "c658d80e",
   "metadata": {},
   "outputs": [
    {
     "name": "stdout",
     "output_type": "stream",
     "text": [
      "[9, 10, 32, 76, 98]\n"
     ]
    }
   ],
   "source": [
    "DLC.merge_sort()\n",
    "print(DLC)"
   ]
  },
  {
   "cell_type": "markdown",
   "id": "874c15e9-7ae7-42df-b26f-d3511fef5cbf",
   "metadata": {},
   "source": [
    "<center>\n",
    "    <div style=\"color: Black; background-color: #4682B4;padding: 1px; border-radius: 1px;font-family: Garamond;\">\n",
    "        <font size = \"4\">\n",
    "        <h3><b>2 - Análise da complexidade de algoritmos</b></h3>\n",
    "        </font>\n",
    "    </div>    \n",
    "<center>"
   ]
  },
  {
   "cell_type": "markdown",
   "id": "2f219ed9",
   "metadata": {},
   "source": [
    "<div style=\"color: Black;float:left;font-family: Garamond;\">\n",
    "    <font size = \"3\">\n",
    "        <h3><b>- Algoritmo de Pesquisa Linear VS Algoritmo de Pesquisa Binária</b></h3>\n",
    "    </font>\n",
    "</div>"
   ]
  },
  {
   "cell_type": "code",
   "execution_count": 44,
   "id": "450db39f",
   "metadata": {},
   "outputs": [],
   "source": [
    "def creat_random_list_DL(length):\n",
    "    lista = list(range(length))\n",
    "    random.shuffle(lista)\n",
    "    x = ListaDL()\n",
    "    for i in lista:\n",
    "        x.insert_last(i)\n",
    "    return x\n",
    "\n",
    "def creat_random_list_DLC(length):\n",
    "    lista = list(range(length))\n",
    "    random.shuffle(lista)\n",
    "    x = ListaDLC()\n",
    "    for i in lista:\n",
    "        x.insert_last(i)\n",
    "    return x\n",
    "\n",
    "\n",
    "def timeit_search_DLC(n_elements):\n",
    "        print('Binary Search:', sum(timeit.repeat(stmt = 'x.binary_search(val)', \n",
    "                                                  setup=f'x = creat_random_list_DLC({n_elements});x.merge_sort();val = random.randint(0, {n_elements - 1})', \n",
    "                                                  globals=globals(), number=1, repeat=50)) / 50)\n",
    "        print('linear Search:', sum(timeit.repeat(stmt = 'x.find_value(val)', \n",
    "                                                  setup=f'x = creat_random_list_DLC({n_elements});x.merge_sort();val = random.randint(0, {n_elements-1})', \n",
    "                                                  globals=globals(), number=1, repeat=50)) / 50)\n",
    "        \n",
    "def timeit_search_DL(n_elements):\n",
    "        print('Binary Search:', sum(timeit.repeat(stmt = 'x.binary_search(val)', \n",
    "                                                  setup=f'x = creat_random_list_DL({n_elements});x.merge_sort();val = random.randint(0, {n_elements - 1})', \n",
    "                                                  globals=globals(), number=1, repeat=50)) / 50)\n",
    "        print('linear Search:', sum(timeit.repeat(stmt = 'x.find_value(val)', \n",
    "                                                  setup=f'x = creat_random_list_DL({n_elements});x.merge_sort();val = random.randint(0, {n_elements-1})', \n",
    "                                                  globals=globals(), number=1, repeat=50)) / 50)"
   ]
  },
  {
   "cell_type": "code",
   "execution_count": 45,
   "id": "bd98c993",
   "metadata": {},
   "outputs": [
    {
     "name": "stdout",
     "output_type": "stream",
     "text": [
      "Lista Duplamente Ligada e Circular: \n",
      "Binary Search: 7.207799999378039e-05\n",
      "linear Search: 1.3499999968189513e-05\n",
      "\n",
      "Lista Duplamente Ligada: \n",
      "Binary Search: 6.701199998133234e-05\n",
      "linear Search: 1.6065999980128253e-05\n"
     ]
    }
   ],
   "source": [
    "print(\"Lista Duplamente Ligada e Circular: \")\n",
    "timeit_search_DLC(100)\n",
    "print()\n",
    "print(\"Lista Duplamente Ligada: \")\n",
    "timeit_search_DL(100)"
   ]
  },
  {
   "attachments": {
    "0fd4aa95-df8d-4d16-8847-233913029a66.png": {
     "image/png": "[encoded data removed]"
    }
   },
   "cell_type": "markdown",
   "id": "ea9077c0-873f-48bb-97a5-907ee0b10afa",
   "metadata": {},
   "source": [
    "![Linear_vs_binary.png](attachment:0fd4aa95-df8d-4d16-8847-233913029a66.png)<img src=\"Linear_vs_binary.png\">"
   ]
  },
  {
   "cell_type": "markdown",
   "id": "83625b9a",
   "metadata": {},
   "source": [
    "<div style=\"color: Black;padding: 1px; float:center;border-radius: 1px;font-family: Garamond;\">\n",
    "    <font size = \"2\">\n",
    "        <h3><b>Conclusão: </b></h3>\n",
    "    </font>\n",
    "</div>\n",
    "\n",
    "A lista dinâmica tem a desvantagem de não conseguir obter um dado item dando um Índice e, devido a isso, o binary search fica mais lento que o linear search, pois, é necessário realizar um linear search dentro do próprio binary search para conseguir obter o elemento que está a meio da lista.\n",
    "Visionando o gráfico a cima, é possivel verificar que, quanto mais elementos os dois tipos de TAD lista têm, o binary search vai ficando muito mais lento quando comparado com o linear search.\n",
    "Podemos assim concluir que, nestes casos, é mais produtivo usar o linear seach já que ficamos impossibilitados de obter diretamente o indice.\n",
    "\n",
    "Caso utilizemos uma lista \"normal\" do python, as chamadas **list**, é mais produtivo utilizar o binary search, já que esse tipo de lista permite obter um dado item numa posição dando o index."
   ]
  },
  {
   "cell_type": "markdown",
   "id": "9d62f812",
   "metadata": {},
   "source": [
    "<div style=\"color: Black;padding: 1px; float:left;border-radius: 1px;font-family: Garamond;\">\n",
    "    <font size = \"4\">\n",
    "        <h3><b>- Algoritmos de ordenação - complexidade</b></h3>\n",
    "    </font>\n",
    "</div>"
   ]
  },
  {
   "cell_type": "markdown",
   "id": "22d6b88b",
   "metadata": {},
   "source": [
    "<div style=\"color: Black;padding: 1px; float:center;border-radius: 1px;font-family: Garamond;\">\n",
    "    <font size = \"2\">\n",
    "        <h3><b>Ocupação de tempo – T(n) </b></h3>\n",
    "    </font>\n",
    "</div>"
   ]
  },
  {
   "cell_type": "markdown",
   "id": "167b5acd",
   "metadata": {},
   "source": [
    "De seguida, calculamos, em média, os tempos de todos os tipos de ordenação nos 2 tipos de TAD lista.\n",
    "Inicialmente criamos uma função, em cada tipo de TAD lista que gerava uma lista com elementos aleatórios, com valores entre 0 e 1000.\n",
    "De seguida, usando a biblioteca timeit, que nos possibilitou calcular o tempo que a ordenação da lista demorava, fizemos 25 repetições em cada tipo de ordenação e calculamos a média, e obtive-mos os seguintes resultados:"
   ]
  },
  {
   "cell_type": "code",
   "execution_count": 49,
   "id": "5facf80b",
   "metadata": {},
   "outputs": [],
   "source": [
    "def timeit_sort_DL(elemento):\n",
    "    print('Merge Sort:', sum(timeit.repeat(stmt = 'x.merge_sort()', setup=f'x = creat_random_list_DL({elemento})', globals=globals(), number=1, repeat=25)) / 25)\n",
    "    print('Quick Sort', sum(timeit.repeat(stmt = 'x.quick_sort()', setup=f'x = creat_random_list_DL({elemento})', globals=globals(), number=1, repeat=25)) / 25)\n",
    "    print('Insertion Sort:', sum(timeit.repeat(stmt = 'x.insertion_sort()', setup=f'x = creat_random_list_DL({elemento})', globals=globals(), number=1, repeat=25)) / 25)\n",
    "    print('Bubble Sort:', sum(timeit.repeat(stmt = 'x.bubble_sort()', setup=f'x = creat_random_list_DL({elemento})', globals=globals(), number = 1, repeat = 25))/25)\n",
    "\n",
    "def timeit_sort_DLC(elemento):\n",
    "    print('Merge Sort:', sum(timeit.repeat(stmt = 'x.merge_sort()', setup=f'x = creat_random_list_DLC({elemento})', globals=globals(), number=1, repeat=25)) / 25)\n",
    "    print('Quick Sort', sum(timeit.repeat(stmt = 'x.quick_sort()', setup=f'x = creat_random_list_DLC({elemento})', globals=globals(), number=1, repeat=25)) / 25)\n",
    "    print('Insertion Sort:', sum(timeit.repeat(stmt = 'x.insertion_sort()', setup=f'x = creat_random_list_DLC({elemento})', globals=globals(), number=1, repeat=25)) / 25)\n",
    "    print('Bubble Sort:', sum(timeit.repeat(stmt = 'x.bubble_sort()', setup=f'x = creat_random_list_DLC({elemento})', globals= globals(), number = 1, repeat = 25))/25)\n"
   ]
  },
  {
   "cell_type": "code",
   "execution_count": 50,
   "id": "d16e7243",
   "metadata": {},
   "outputs": [
    {
     "name": "stdout",
     "output_type": "stream",
     "text": [
      "Lista Duplamente Ligada: \n",
      "\n",
      "Merge Sort: 0.012089088000011542\n",
      "Quick Sort 0.021210748000048626\n",
      "Insertion Sort: 0.3372677359999943\n",
      "Bubble Sort: 0.37907799200000225\n"
     ]
    }
   ],
   "source": [
    "# Lista Duplamente Ligada\n",
    "print(\"Lista Duplamente Ligada: \\n\")\n",
    "timeit_sort_DL(150)"
   ]
  },
  {
   "cell_type": "code",
   "execution_count": 51,
   "id": "304cae0a",
   "metadata": {},
   "outputs": [
    {
     "name": "stdout",
     "output_type": "stream",
     "text": [
      "Lista Duplamente Ligada e Circular: \n",
      "\n",
      "Merge Sort: 0.012016159999984666\n",
      "Quick Sort 0.02195131600001332\n",
      "Insertion Sort: 0.32249121200000447\n",
      "Bubble Sort: 0.3908212480000111\n"
     ]
    }
   ],
   "source": [
    "# Lista Duplamente Ligada e Circular\n",
    "print(\"Lista Duplamente Ligada e Circular: \\n\")\n",
    "timeit_sort_DLC(150)"
   ]
  },
  {
   "cell_type": "markdown",
   "id": "87b191cd-6642-4b54-a25a-6afbeb818008",
   "metadata": {},
   "source": [
    "De seguida, construi-mos gráficos para podermos analisar e retirar conclusões melhores sobre os algoritmos de ordenação"
   ]
  },
  {
   "cell_type": "markdown",
   "id": "baa641f3-b475-4a7f-8f02-ad52ec3e6f38",
   "metadata": {},
   "source": [
    "![](ListaDL.png)"
   ]
  },
  {
   "cell_type": "markdown",
   "id": "c5a679e9-24c5-4d00-a78f-f9d41e301565",
   "metadata": {},
   "source": [
    "![](ListaDLC.png)"
   ]
  },
  {
   "cell_type": "markdown",
   "id": "edb01982",
   "metadata": {},
   "source": [
    "Visionando os valores e os gráfico, é notório que o Merge Sort é o tipo de ordenação mais rápido (graças á sua complexidade que é sempre O(n log n)) e que o Bubble Sort é o tipo de ordenação mais lento (graças á sua complexidade que é sempre O(n^2))\n",
    "Podemos assim ver na tabela abaixo como se comporta o grau de complexidade dos diferentes tipos de ordenação apresentados:"
   ]
  },
  {
   "cell_type": "markdown",
   "id": "82f3590d",
   "metadata": {},
   "source": [
    "Algoritmos de ordenação | Best Case | Average Case | Worst Case\n",
    ":--: | :--: | :--: | :--:\n",
    "Merge_sort | O(n log n) | O(n log n) | O(n log n)\n",
    "Quick Sort | O(n log n) | O(n log n) | O(n^2)\n",
    "Insertion Sort | O(n) | O(n^2) | O(n^2)\n",
    "Bubble Sort | O(n^2) | O(n^2) | O(n^2)"
   ]
  },
  {
   "cell_type": "markdown",
   "id": "d5662609-69f1-482a-9d51-ca44abcb601e",
   "metadata": {},
   "source": [
    "De seguida, criámos 2 gráficos da lista duplamente ligada, com o objetivo de comparar os dois algoritmos de ordenação aparentemente mais rápidos, o quick sort e o merge sort"
   ]
  },
  {
   "cell_type": "markdown",
   "id": "74210c72-8a24-406e-8016-6c84bd176d16",
   "metadata": {},
   "source": [
    "![](quick_sort.png)"
   ]
  },
  {
   "cell_type": "markdown",
   "id": "89a01eac-2b80-4bb1-b8ea-2bef306703a0",
   "metadata": {},
   "source": [
    "![](merge_sort.png)"
   ]
  },
  {
   "cell_type": "markdown",
   "id": "c50255bb-5385-4d82-b9aa-9468b2041bd0",
   "metadata": {},
   "source": [
    "Ao analisar-mos corretamente os dois gráfico acima, é notório que o merge sort, não só é mais constante, como também é mais rápido que o quick sort e, por esse mesmo motivo, sempre que era necessário organizar uma lista (para o binary search, por exemplo) utilizamos sempre o merge sort.\n",
    "É importante referir que, apesar do merge sort possuir o grau de complexidade mais eficiente, ele não é o melhor método de ordenação para as listas com poucos elementos. Para listas mais pequenas, o insertion Sort é o que se sai melhor, como é possivel visionar a baixo:"
   ]
  },
  {
   "cell_type": "code",
   "execution_count": 61,
   "id": "89f9bec5",
   "metadata": {},
   "outputs": [
    {
     "name": "stdout",
     "output_type": "stream",
     "text": [
      "Lista Duplamente Ligada: \n",
      "\n",
      "Merge Sort: 0.00012449199999537086\n",
      "Quick Sort 0.00022801600000093458\n",
      "Insertion Sort: 8.589999997639097e-05\n",
      "Bubble Sort: 0.00011633999996774946\n"
     ]
    }
   ],
   "source": [
    "# Lista Duplamente Ligada\n",
    "print(\"Lista Duplamente Ligada: \\n\")\n",
    "timeit_sort_DL(8)"
   ]
  },
  {
   "cell_type": "code",
   "execution_count": 62,
   "id": "9ce36ad4",
   "metadata": {},
   "outputs": [
    {
     "name": "stdout",
     "output_type": "stream",
     "text": [
      "Lista Duplamente Ligada e Circular: \n",
      "\n",
      "Merge Sort: 0.00012843599999541765\n",
      "Quick Sort 0.00021842000001925043\n",
      "Insertion Sort: 0.0001043279999794322\n",
      "Bubble Sort: 0.00012072399998942273\n"
     ]
    }
   ],
   "source": [
    "# Lista Duplamente Ligada e Circular\n",
    "print(\"Lista Duplamente Ligada e Circular: \\n\")\n",
    "timeit_sort_DLC(8)"
   ]
  },
  {
   "cell_type": "markdown",
   "id": "56125ae8",
   "metadata": {},
   "source": [
    "Para concluir esta parte, e relacionar com as implementações da TAD lista, podemos verificar que é mais demorado ordenar a lista duplamente ligada e circular, possivelmente, por esta ter a caracteristica de ser circular (a head e a tail estão ligadas), como demonstra o gráfico a baixo:"
   ]
  },
  {
   "cell_type": "markdown",
   "id": "17450a7f-8555-45d2-bc5b-c708c052456d",
   "metadata": {},
   "source": [
    "![](Comparacao_DL_DLC.png)"
   ]
  },
  {
   "cell_type": "markdown",
   "id": "770e18a2",
   "metadata": {},
   "source": [
    "<div style=\"color: Black;padding: 1px; float:center;border-radius: 1px;font-family: Garamond;\">\n",
    "    <font size = \"2\">\n",
    "        <h3><b>Ocupação de espaço dos métodos de ordenação – S(n)</b></h3>\n",
    "    </font>\n",
    "</div>"
   ]
  },
  {
   "cell_type": "markdown",
   "id": "1c9501ae",
   "metadata": {},
   "source": [
    "A Ocupação de espaço, nomeadamente, o S(n), é a “memória” utilizada pelo algoritmo para execução da tarefa, medida em função do tamanho n do input.\n",
    "Para conseguirmos saber a ocupação do espaço deste é necessário contar a quantidade de células de memória, array e de variáveis auxiliares."
   ]
  },
  {
   "cell_type": "raw",
   "id": "694a02a3",
   "metadata": {},
   "source": [
    "def merge_sort(self):\n",
    "    if self.__size > 1:\n",
    "        left_lista = self.divide(0, self.__size // 2 - 1)\n",
    "        right_lista = self.divide(self.__size // 2, self.__size - 1)\n",
    "        left_lista.merge_sort()\n",
    "        right_lista.merge_sort()\n",
    "        l_index = 0\n",
    "        r_index = 0\n",
    "        m_index = 0\n",
    "        while l_index < left_lista.__size and r_index < right_lista.__size:\n",
    "            if left_lista.get_index(l_index).data < right_lista.get_index(r_index).data:\n",
    "                self.get_index(m_index).data = left_lista.get_index(l_index).data\n",
    "                l_index += 1\n",
    "            else:\n",
    "                self.get_index(m_index).data = right_lista.get_index(r_index).data\n",
    "                r_index += 1\n",
    "            m_index += 1\n",
    "        while l_index < left_lista.__size:\n",
    "            self.get_index(m_index).data = left_lista.get_index(l_index).data\n",
    "            l_index += 1\n",
    "            m_index += 1\n",
    "        while r_index < right_lista.__size:\n",
    "            self.get_index(m_index).data = right_lista.get_index(r_index).data\n",
    "            r_index += 1\n",
    "            m_index += 1"
   ]
  },
  {
   "cell_type": "markdown",
   "id": "89eed1c6",
   "metadata": {},
   "source": [
    "- Merge Sort: S(n) = n + 5"
   ]
  },
  {
   "cell_type": "raw",
   "id": "22305162",
   "metadata": {},
   "source": [
    "def quick_sort(self):\n",
    "        if self.__size <= 1:\n",
    "            return\n",
    "        else:\n",
    "            comp = self.get_index(-1)\n",
    "            list = self.divide(0, self.__size - 2)\n",
    "        lower_list = ListaDLC()\n",
    "        greater_list = ListaDLC()\n",
    "        for i in range(list.__size):\n",
    "            if list.get_index(i).data <= comp.data:\n",
    "                lower_list.insert_last(list.get_index(i).data)\n",
    "            else:\n",
    "                greater_list.insert_last(list.get_index(i).data)\n",
    "        self.remove_all()\n",
    "        lower_list.quick_sort()\n",
    "        comp_list = ListaDLC()\n",
    "        comp_list.insert_first(comp.data)\n",
    "        greater_list.quick_sort()\n",
    "        lista = lower_list + comp_list + greater_list\n",
    "        self.__size = lista.__size\n",
    "        self.__head = lista.__head\n",
    "        self.__tail = lista.__tail"
   ]
  },
  {
   "cell_type": "markdown",
   "id": "8cb0c44b",
   "metadata": {},
   "source": [
    "- Quick Sort: S(n) = n + 7"
   ]
  },
  {
   "cell_type": "raw",
   "id": "f47888ca",
   "metadata": {},
   "source": [
    "def insertion_sort(self):\n",
    "        for i in range(1, self.__size):\n",
    "            r = i\n",
    "            while r > 0 and self.get_index(r).data < self.get_index(r - 1).data:\n",
    "                self.get_index(r).data, self.get_index(r - 1).data = self.get_index(r - 1).data, self.get_index(r).data\n",
    "                r -= 1"
   ]
  },
  {
   "cell_type": "markdown",
   "id": "89cbfe88",
   "metadata": {},
   "source": [
    "- Insertion Sort: S(n) = n + 2"
   ]
  },
  {
   "cell_type": "raw",
   "id": "67fc5bbb",
   "metadata": {},
   "source": [
    "def bubble_sort(self):\n",
    "        for i in range(self.__size - 1, 0, -1):\n",
    "            for r in range(i):\n",
    "                if self.get_index(r).data > self.get_index(r + 1).data:\n",
    "                    self.get_index(r).data, self.get_index(r + 1).data = self.get_index(r + 1).data, self.get_index(r).data"
   ]
  },
  {
   "cell_type": "markdown",
   "id": "3af4595f",
   "metadata": {},
   "source": [
    "- Bubble Sort: S(n) = n + 2"
   ]
  },
  {
   "cell_type": "markdown",
   "id": "ad19dc13",
   "metadata": {},
   "source": [
    "Visionando a ocupação do espaço em cima, é notório que, os métodos de ordenação mais lentos, nomeadamente, o bubble_sort e o insertion_sort, são os que ocupam menos espaço.\n",
    "O método de ordenação que ocupa mais espaço é o quicksort."
   ]
  },
  {
   "cell_type": "markdown",
   "id": "c19d6611",
   "metadata": {},
   "source": [
    "<div style=\"color: Black;padding: 1px; float:center;border-radius: 1px;font-family: Garamond;\">\n",
    "    <font size = \"2\">\n",
    "        <h3><b>Ocupação de espaço das duas implementações do TAD Lista – S(n)</b></h3>\n",
    "    </font>\n",
    "</div>"
   ]
  },
  {
   "cell_type": "raw",
   "id": "b7af6765",
   "metadata": {},
   "source": [
    "class ListaDL:\n",
    "\n",
    "    def __init__(self):\n",
    "        self.__head = NewNode(None, None, None) \n",
    "        self.__tail = NewNode(None, None, None)\n",
    "        self.__head.next = self.__tail\n",
    "        self.__tail.prev = self.__head\n",
    "        self.__size = 0\n",
    "        \n",
    "class ListaDLC:\n",
    "\n",
    "    def __init__(self):\n",
    "        self.__head = NewNode(None, None, None)\n",
    "        self.__tail = NewNode(None, None, None)\n",
    "        self.__head.next = self.__head.prev = self.__tail\n",
    "        self.__tail.prev = self.__tail.next = self.__head\n",
    "        self.__size = 0"
   ]
  },
  {
   "cell_type": "markdown",
   "id": "d95ff4a2",
   "metadata": {},
   "source": [
    "Ao analisar-mos o construtor das duas TAD listas, podemos perceber que a ListaDLC ocupa mais espaço que a ListaDL. Isto ocorre, pois, no construtor da ListaDLC, a head guarda o nó da tail como nó anterior e a tail guarda o nó da head como próximo nó.\n",
    "Apesar de ser uma diferença de espaço muito pequena, esta diferença existe"
   ]
  },
  {
   "cell_type": "markdown",
   "id": "d78c292e-8ffd-4b83-9491-972e1f345fc7",
   "metadata": {},
   "source": [
    "<center>\n",
    "    <div style=\"color: Black; background-color: #4682B4;padding: 1px; border-radius: 1px;font-family: Garamond;\">\n",
    "        <font size = \"4\">\n",
    "            <h3><b>Notas Finais</b></h3>\n",
    "        </font>\n",
    "    </div>    \n",
    "<center>"
   ]
  },
  {
   "cell_type": "raw",
   "id": "198d968f",
   "metadata": {},
   "source": [
    "Resolução do trabalho:\n",
    "    - A implementação dos métodos 1 a 8 da fase 1 (tanto da TAD lista DL e DLC) foi responsável pelo Diogo Freitas;\n",
    "    - O responsável pela implementação da pesquisa binária, interface, gráficos, métodos de ordenamento e os métodos adicionais foi o Pedro;\n",
    "    - O responsável pela implementação e análise na fase 2 foi o Diogo Freitas;\n",
    "    - O responsável pela organização e escrita do relatório do projeto foi a inês e o Diogo;"
   ]
  }
 ],
 "metadata": {
  "kernelspec": {
   "display_name": "Python 3 (ipykernel)",
   "language": "python",
   "name": "python3"
  },
  "language_info": {
   "codemirror_mode": {
    "name": "ipython",
    "version": 3
   },
   "file_extension": ".py",
   "mimetype": "text/x-python",
   "name": "python",
   "nbconvert_exporter": "python",
   "pygments_lexer": "ipython3",
   "version": "3.9.13"
  }
 },
 "nbformat": 4,
 "nbformat_minor": 5
}
